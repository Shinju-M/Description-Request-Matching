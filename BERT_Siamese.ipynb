{
  "metadata": {
    "kernelspec": {
      "display_name": "Python 3",
      "name": "python3"
    },
    "language_info": {
      "name": "python",
      "version": "3.10.13",
      "mimetype": "text/x-python",
      "codemirror_mode": {
        "name": "ipython",
        "version": 3
      },
      "pygments_lexer": "ipython3",
      "nbconvert_exporter": "python",
      "file_extension": ".py"
    },
    "kaggle": {
      "accelerator": "none",
      "dataSources": [
        {
          "sourceId": 8063184,
          "sourceType": "datasetVersion",
          "datasetId": 4756624
        }
      ],
      "dockerImageVersionId": 30673,
      "isInternetEnabled": true,
      "language": "python",
      "sourceType": "notebook",
      "isGpuEnabled": false
    },
    "colab": {
      "provenance": [],
      "gpuType": "T4",
      "include_colab_link": true
    },
    "accelerator": "GPU",
    "widgets": {
      "application/vnd.jupyter.widget-state+json": {
        "37c670d490134bb290e28a26c5f9f35a": {
          "model_module": "@jupyter-widgets/controls",
          "model_name": "HBoxModel",
          "model_module_version": "1.5.0",
          "state": {
            "_dom_classes": [],
            "_model_module": "@jupyter-widgets/controls",
            "_model_module_version": "1.5.0",
            "_model_name": "HBoxModel",
            "_view_count": null,
            "_view_module": "@jupyter-widgets/controls",
            "_view_module_version": "1.5.0",
            "_view_name": "HBoxView",
            "box_style": "",
            "children": [
              "IPY_MODEL_6dfaba7667264f279004e890aca0172d",
              "IPY_MODEL_b58ffef2b5984969a06cde85145b72ed",
              "IPY_MODEL_d563a984b9084cbfa9d69d661cab2655"
            ],
            "layout": "IPY_MODEL_a24c8c852ac74bd1934da47b9603804a"
          }
        },
        "6dfaba7667264f279004e890aca0172d": {
          "model_module": "@jupyter-widgets/controls",
          "model_name": "HTMLModel",
          "model_module_version": "1.5.0",
          "state": {
            "_dom_classes": [],
            "_model_module": "@jupyter-widgets/controls",
            "_model_module_version": "1.5.0",
            "_model_name": "HTMLModel",
            "_view_count": null,
            "_view_module": "@jupyter-widgets/controls",
            "_view_module_version": "1.5.0",
            "_view_name": "HTMLView",
            "description": "",
            "description_tooltip": null,
            "layout": "IPY_MODEL_7b31891f57844641a54ffcaa84e071df",
            "placeholder": "​",
            "style": "IPY_MODEL_ba5acb48de2e44299ecb906ce99724d9",
            "value": "config.json: 100%"
          }
        },
        "b58ffef2b5984969a06cde85145b72ed": {
          "model_module": "@jupyter-widgets/controls",
          "model_name": "FloatProgressModel",
          "model_module_version": "1.5.0",
          "state": {
            "_dom_classes": [],
            "_model_module": "@jupyter-widgets/controls",
            "_model_module_version": "1.5.0",
            "_model_name": "FloatProgressModel",
            "_view_count": null,
            "_view_module": "@jupyter-widgets/controls",
            "_view_module_version": "1.5.0",
            "_view_name": "ProgressView",
            "bar_style": "success",
            "description": "",
            "description_tooltip": null,
            "layout": "IPY_MODEL_cbc56a24a24440eba75adf55b174eb8e",
            "max": 591,
            "min": 0,
            "orientation": "horizontal",
            "style": "IPY_MODEL_8db87e3f833c4d9fb7169a5b65ac6b87",
            "value": 591
          }
        },
        "d563a984b9084cbfa9d69d661cab2655": {
          "model_module": "@jupyter-widgets/controls",
          "model_name": "HTMLModel",
          "model_module_version": "1.5.0",
          "state": {
            "_dom_classes": [],
            "_model_module": "@jupyter-widgets/controls",
            "_model_module_version": "1.5.0",
            "_model_name": "HTMLModel",
            "_view_count": null,
            "_view_module": "@jupyter-widgets/controls",
            "_view_module_version": "1.5.0",
            "_view_name": "HTMLView",
            "description": "",
            "description_tooltip": null,
            "layout": "IPY_MODEL_7a250f12a3924302bbe952ad0ab189a2",
            "placeholder": "​",
            "style": "IPY_MODEL_12c417086a8a4212b7a9695c56b1ef5a",
            "value": " 591/591 [00:00&lt;00:00, 25.5kB/s]"
          }
        },
        "a24c8c852ac74bd1934da47b9603804a": {
          "model_module": "@jupyter-widgets/base",
          "model_name": "LayoutModel",
          "model_module_version": "1.2.0",
          "state": {
            "_model_module": "@jupyter-widgets/base",
            "_model_module_version": "1.2.0",
            "_model_name": "LayoutModel",
            "_view_count": null,
            "_view_module": "@jupyter-widgets/base",
            "_view_module_version": "1.2.0",
            "_view_name": "LayoutView",
            "align_content": null,
            "align_items": null,
            "align_self": null,
            "border": null,
            "bottom": null,
            "display": null,
            "flex": null,
            "flex_flow": null,
            "grid_area": null,
            "grid_auto_columns": null,
            "grid_auto_flow": null,
            "grid_auto_rows": null,
            "grid_column": null,
            "grid_gap": null,
            "grid_row": null,
            "grid_template_areas": null,
            "grid_template_columns": null,
            "grid_template_rows": null,
            "height": null,
            "justify_content": null,
            "justify_items": null,
            "left": null,
            "margin": null,
            "max_height": null,
            "max_width": null,
            "min_height": null,
            "min_width": null,
            "object_fit": null,
            "object_position": null,
            "order": null,
            "overflow": null,
            "overflow_x": null,
            "overflow_y": null,
            "padding": null,
            "right": null,
            "top": null,
            "visibility": null,
            "width": null
          }
        },
        "7b31891f57844641a54ffcaa84e071df": {
          "model_module": "@jupyter-widgets/base",
          "model_name": "LayoutModel",
          "model_module_version": "1.2.0",
          "state": {
            "_model_module": "@jupyter-widgets/base",
            "_model_module_version": "1.2.0",
            "_model_name": "LayoutModel",
            "_view_count": null,
            "_view_module": "@jupyter-widgets/base",
            "_view_module_version": "1.2.0",
            "_view_name": "LayoutView",
            "align_content": null,
            "align_items": null,
            "align_self": null,
            "border": null,
            "bottom": null,
            "display": null,
            "flex": null,
            "flex_flow": null,
            "grid_area": null,
            "grid_auto_columns": null,
            "grid_auto_flow": null,
            "grid_auto_rows": null,
            "grid_column": null,
            "grid_gap": null,
            "grid_row": null,
            "grid_template_areas": null,
            "grid_template_columns": null,
            "grid_template_rows": null,
            "height": null,
            "justify_content": null,
            "justify_items": null,
            "left": null,
            "margin": null,
            "max_height": null,
            "max_width": null,
            "min_height": null,
            "min_width": null,
            "object_fit": null,
            "object_position": null,
            "order": null,
            "overflow": null,
            "overflow_x": null,
            "overflow_y": null,
            "padding": null,
            "right": null,
            "top": null,
            "visibility": null,
            "width": null
          }
        },
        "ba5acb48de2e44299ecb906ce99724d9": {
          "model_module": "@jupyter-widgets/controls",
          "model_name": "DescriptionStyleModel",
          "model_module_version": "1.5.0",
          "state": {
            "_model_module": "@jupyter-widgets/controls",
            "_model_module_version": "1.5.0",
            "_model_name": "DescriptionStyleModel",
            "_view_count": null,
            "_view_module": "@jupyter-widgets/base",
            "_view_module_version": "1.2.0",
            "_view_name": "StyleView",
            "description_width": ""
          }
        },
        "cbc56a24a24440eba75adf55b174eb8e": {
          "model_module": "@jupyter-widgets/base",
          "model_name": "LayoutModel",
          "model_module_version": "1.2.0",
          "state": {
            "_model_module": "@jupyter-widgets/base",
            "_model_module_version": "1.2.0",
            "_model_name": "LayoutModel",
            "_view_count": null,
            "_view_module": "@jupyter-widgets/base",
            "_view_module_version": "1.2.0",
            "_view_name": "LayoutView",
            "align_content": null,
            "align_items": null,
            "align_self": null,
            "border": null,
            "bottom": null,
            "display": null,
            "flex": null,
            "flex_flow": null,
            "grid_area": null,
            "grid_auto_columns": null,
            "grid_auto_flow": null,
            "grid_auto_rows": null,
            "grid_column": null,
            "grid_gap": null,
            "grid_row": null,
            "grid_template_areas": null,
            "grid_template_columns": null,
            "grid_template_rows": null,
            "height": null,
            "justify_content": null,
            "justify_items": null,
            "left": null,
            "margin": null,
            "max_height": null,
            "max_width": null,
            "min_height": null,
            "min_width": null,
            "object_fit": null,
            "object_position": null,
            "order": null,
            "overflow": null,
            "overflow_x": null,
            "overflow_y": null,
            "padding": null,
            "right": null,
            "top": null,
            "visibility": null,
            "width": null
          }
        },
        "8db87e3f833c4d9fb7169a5b65ac6b87": {
          "model_module": "@jupyter-widgets/controls",
          "model_name": "ProgressStyleModel",
          "model_module_version": "1.5.0",
          "state": {
            "_model_module": "@jupyter-widgets/controls",
            "_model_module_version": "1.5.0",
            "_model_name": "ProgressStyleModel",
            "_view_count": null,
            "_view_module": "@jupyter-widgets/base",
            "_view_module_version": "1.2.0",
            "_view_name": "StyleView",
            "bar_color": null,
            "description_width": ""
          }
        },
        "7a250f12a3924302bbe952ad0ab189a2": {
          "model_module": "@jupyter-widgets/base",
          "model_name": "LayoutModel",
          "model_module_version": "1.2.0",
          "state": {
            "_model_module": "@jupyter-widgets/base",
            "_model_module_version": "1.2.0",
            "_model_name": "LayoutModel",
            "_view_count": null,
            "_view_module": "@jupyter-widgets/base",
            "_view_module_version": "1.2.0",
            "_view_name": "LayoutView",
            "align_content": null,
            "align_items": null,
            "align_self": null,
            "border": null,
            "bottom": null,
            "display": null,
            "flex": null,
            "flex_flow": null,
            "grid_area": null,
            "grid_auto_columns": null,
            "grid_auto_flow": null,
            "grid_auto_rows": null,
            "grid_column": null,
            "grid_gap": null,
            "grid_row": null,
            "grid_template_areas": null,
            "grid_template_columns": null,
            "grid_template_rows": null,
            "height": null,
            "justify_content": null,
            "justify_items": null,
            "left": null,
            "margin": null,
            "max_height": null,
            "max_width": null,
            "min_height": null,
            "min_width": null,
            "object_fit": null,
            "object_position": null,
            "order": null,
            "overflow": null,
            "overflow_x": null,
            "overflow_y": null,
            "padding": null,
            "right": null,
            "top": null,
            "visibility": null,
            "width": null
          }
        },
        "12c417086a8a4212b7a9695c56b1ef5a": {
          "model_module": "@jupyter-widgets/controls",
          "model_name": "DescriptionStyleModel",
          "model_module_version": "1.5.0",
          "state": {
            "_model_module": "@jupyter-widgets/controls",
            "_model_module_version": "1.5.0",
            "_model_name": "DescriptionStyleModel",
            "_view_count": null,
            "_view_module": "@jupyter-widgets/base",
            "_view_module_version": "1.2.0",
            "_view_name": "StyleView",
            "description_width": ""
          }
        },
        "43a03b6e83d04a638efd3deccafdf4e6": {
          "model_module": "@jupyter-widgets/controls",
          "model_name": "HBoxModel",
          "model_module_version": "1.5.0",
          "state": {
            "_dom_classes": [],
            "_model_module": "@jupyter-widgets/controls",
            "_model_module_version": "1.5.0",
            "_model_name": "HBoxModel",
            "_view_count": null,
            "_view_module": "@jupyter-widgets/controls",
            "_view_module_version": "1.5.0",
            "_view_name": "HBoxView",
            "box_style": "",
            "children": [
              "IPY_MODEL_812827fff542473d9eb5d22e7c3ec2e1",
              "IPY_MODEL_2fa5bd81d2174a4b849df37bd17784e9",
              "IPY_MODEL_6c9b6777de484c2f98be323731017070"
            ],
            "layout": "IPY_MODEL_1185ec504a0f4ed69e25dd2ae2a0b99a"
          }
        },
        "812827fff542473d9eb5d22e7c3ec2e1": {
          "model_module": "@jupyter-widgets/controls",
          "model_name": "HTMLModel",
          "model_module_version": "1.5.0",
          "state": {
            "_dom_classes": [],
            "_model_module": "@jupyter-widgets/controls",
            "_model_module_version": "1.5.0",
            "_model_name": "HTMLModel",
            "_view_count": null,
            "_view_module": "@jupyter-widgets/controls",
            "_view_module_version": "1.5.0",
            "_view_name": "HTMLView",
            "description": "",
            "description_tooltip": null,
            "layout": "IPY_MODEL_f79c8d289592453da737718d1af3257c",
            "placeholder": "​",
            "style": "IPY_MODEL_dfd42989f29e4dc28e052fd370f5f7d5",
            "value": "pytorch_model.bin: 100%"
          }
        },
        "2fa5bd81d2174a4b849df37bd17784e9": {
          "model_module": "@jupyter-widgets/controls",
          "model_name": "FloatProgressModel",
          "model_module_version": "1.5.0",
          "state": {
            "_dom_classes": [],
            "_model_module": "@jupyter-widgets/controls",
            "_model_module_version": "1.5.0",
            "_model_name": "FloatProgressModel",
            "_view_count": null,
            "_view_module": "@jupyter-widgets/controls",
            "_view_module_version": "1.5.0",
            "_view_name": "ProgressView",
            "bar_style": "success",
            "description": "",
            "description_tooltip": null,
            "layout": "IPY_MODEL_0d2315e3d40744288f367d5ecbe7fb07",
            "max": 1712497782,
            "min": 0,
            "orientation": "horizontal",
            "style": "IPY_MODEL_7fe2baede492449c90b82215e296fb14",
            "value": 1712497782
          }
        },
        "6c9b6777de484c2f98be323731017070": {
          "model_module": "@jupyter-widgets/controls",
          "model_name": "HTMLModel",
          "model_module_version": "1.5.0",
          "state": {
            "_dom_classes": [],
            "_model_module": "@jupyter-widgets/controls",
            "_model_module_version": "1.5.0",
            "_model_name": "HTMLModel",
            "_view_count": null,
            "_view_module": "@jupyter-widgets/controls",
            "_view_module_version": "1.5.0",
            "_view_name": "HTMLView",
            "description": "",
            "description_tooltip": null,
            "layout": "IPY_MODEL_b090c747605843f397f1cc167d4d067e",
            "placeholder": "​",
            "style": "IPY_MODEL_745a22f9959447cda4890eb6997c6759",
            "value": " 1.71G/1.71G [01:28&lt;00:00, 19.7MB/s]"
          }
        },
        "1185ec504a0f4ed69e25dd2ae2a0b99a": {
          "model_module": "@jupyter-widgets/base",
          "model_name": "LayoutModel",
          "model_module_version": "1.2.0",
          "state": {
            "_model_module": "@jupyter-widgets/base",
            "_model_module_version": "1.2.0",
            "_model_name": "LayoutModel",
            "_view_count": null,
            "_view_module": "@jupyter-widgets/base",
            "_view_module_version": "1.2.0",
            "_view_name": "LayoutView",
            "align_content": null,
            "align_items": null,
            "align_self": null,
            "border": null,
            "bottom": null,
            "display": null,
            "flex": null,
            "flex_flow": null,
            "grid_area": null,
            "grid_auto_columns": null,
            "grid_auto_flow": null,
            "grid_auto_rows": null,
            "grid_column": null,
            "grid_gap": null,
            "grid_row": null,
            "grid_template_areas": null,
            "grid_template_columns": null,
            "grid_template_rows": null,
            "height": null,
            "justify_content": null,
            "justify_items": null,
            "left": null,
            "margin": null,
            "max_height": null,
            "max_width": null,
            "min_height": null,
            "min_width": null,
            "object_fit": null,
            "object_position": null,
            "order": null,
            "overflow": null,
            "overflow_x": null,
            "overflow_y": null,
            "padding": null,
            "right": null,
            "top": null,
            "visibility": null,
            "width": null
          }
        },
        "f79c8d289592453da737718d1af3257c": {
          "model_module": "@jupyter-widgets/base",
          "model_name": "LayoutModel",
          "model_module_version": "1.2.0",
          "state": {
            "_model_module": "@jupyter-widgets/base",
            "_model_module_version": "1.2.0",
            "_model_name": "LayoutModel",
            "_view_count": null,
            "_view_module": "@jupyter-widgets/base",
            "_view_module_version": "1.2.0",
            "_view_name": "LayoutView",
            "align_content": null,
            "align_items": null,
            "align_self": null,
            "border": null,
            "bottom": null,
            "display": null,
            "flex": null,
            "flex_flow": null,
            "grid_area": null,
            "grid_auto_columns": null,
            "grid_auto_flow": null,
            "grid_auto_rows": null,
            "grid_column": null,
            "grid_gap": null,
            "grid_row": null,
            "grid_template_areas": null,
            "grid_template_columns": null,
            "grid_template_rows": null,
            "height": null,
            "justify_content": null,
            "justify_items": null,
            "left": null,
            "margin": null,
            "max_height": null,
            "max_width": null,
            "min_height": null,
            "min_width": null,
            "object_fit": null,
            "object_position": null,
            "order": null,
            "overflow": null,
            "overflow_x": null,
            "overflow_y": null,
            "padding": null,
            "right": null,
            "top": null,
            "visibility": null,
            "width": null
          }
        },
        "dfd42989f29e4dc28e052fd370f5f7d5": {
          "model_module": "@jupyter-widgets/controls",
          "model_name": "DescriptionStyleModel",
          "model_module_version": "1.5.0",
          "state": {
            "_model_module": "@jupyter-widgets/controls",
            "_model_module_version": "1.5.0",
            "_model_name": "DescriptionStyleModel",
            "_view_count": null,
            "_view_module": "@jupyter-widgets/base",
            "_view_module_version": "1.2.0",
            "_view_name": "StyleView",
            "description_width": ""
          }
        },
        "0d2315e3d40744288f367d5ecbe7fb07": {
          "model_module": "@jupyter-widgets/base",
          "model_name": "LayoutModel",
          "model_module_version": "1.2.0",
          "state": {
            "_model_module": "@jupyter-widgets/base",
            "_model_module_version": "1.2.0",
            "_model_name": "LayoutModel",
            "_view_count": null,
            "_view_module": "@jupyter-widgets/base",
            "_view_module_version": "1.2.0",
            "_view_name": "LayoutView",
            "align_content": null,
            "align_items": null,
            "align_self": null,
            "border": null,
            "bottom": null,
            "display": null,
            "flex": null,
            "flex_flow": null,
            "grid_area": null,
            "grid_auto_columns": null,
            "grid_auto_flow": null,
            "grid_auto_rows": null,
            "grid_column": null,
            "grid_gap": null,
            "grid_row": null,
            "grid_template_areas": null,
            "grid_template_columns": null,
            "grid_template_rows": null,
            "height": null,
            "justify_content": null,
            "justify_items": null,
            "left": null,
            "margin": null,
            "max_height": null,
            "max_width": null,
            "min_height": null,
            "min_width": null,
            "object_fit": null,
            "object_position": null,
            "order": null,
            "overflow": null,
            "overflow_x": null,
            "overflow_y": null,
            "padding": null,
            "right": null,
            "top": null,
            "visibility": null,
            "width": null
          }
        },
        "7fe2baede492449c90b82215e296fb14": {
          "model_module": "@jupyter-widgets/controls",
          "model_name": "ProgressStyleModel",
          "model_module_version": "1.5.0",
          "state": {
            "_model_module": "@jupyter-widgets/controls",
            "_model_module_version": "1.5.0",
            "_model_name": "ProgressStyleModel",
            "_view_count": null,
            "_view_module": "@jupyter-widgets/base",
            "_view_module_version": "1.2.0",
            "_view_name": "StyleView",
            "bar_color": null,
            "description_width": ""
          }
        },
        "b090c747605843f397f1cc167d4d067e": {
          "model_module": "@jupyter-widgets/base",
          "model_name": "LayoutModel",
          "model_module_version": "1.2.0",
          "state": {
            "_model_module": "@jupyter-widgets/base",
            "_model_module_version": "1.2.0",
            "_model_name": "LayoutModel",
            "_view_count": null,
            "_view_module": "@jupyter-widgets/base",
            "_view_module_version": "1.2.0",
            "_view_name": "LayoutView",
            "align_content": null,
            "align_items": null,
            "align_self": null,
            "border": null,
            "bottom": null,
            "display": null,
            "flex": null,
            "flex_flow": null,
            "grid_area": null,
            "grid_auto_columns": null,
            "grid_auto_flow": null,
            "grid_auto_rows": null,
            "grid_column": null,
            "grid_gap": null,
            "grid_row": null,
            "grid_template_areas": null,
            "grid_template_columns": null,
            "grid_template_rows": null,
            "height": null,
            "justify_content": null,
            "justify_items": null,
            "left": null,
            "margin": null,
            "max_height": null,
            "max_width": null,
            "min_height": null,
            "min_width": null,
            "object_fit": null,
            "object_position": null,
            "order": null,
            "overflow": null,
            "overflow_x": null,
            "overflow_y": null,
            "padding": null,
            "right": null,
            "top": null,
            "visibility": null,
            "width": null
          }
        },
        "745a22f9959447cda4890eb6997c6759": {
          "model_module": "@jupyter-widgets/controls",
          "model_name": "DescriptionStyleModel",
          "model_module_version": "1.5.0",
          "state": {
            "_model_module": "@jupyter-widgets/controls",
            "_model_module_version": "1.5.0",
            "_model_name": "DescriptionStyleModel",
            "_view_count": null,
            "_view_module": "@jupyter-widgets/base",
            "_view_module_version": "1.2.0",
            "_view_name": "StyleView",
            "description_width": ""
          }
        },
        "12b2b44573f04ccdbc24f1bea970ca47": {
          "model_module": "@jupyter-widgets/controls",
          "model_name": "HBoxModel",
          "model_module_version": "1.5.0",
          "state": {
            "_dom_classes": [],
            "_model_module": "@jupyter-widgets/controls",
            "_model_module_version": "1.5.0",
            "_model_name": "HBoxModel",
            "_view_count": null,
            "_view_module": "@jupyter-widgets/controls",
            "_view_module_version": "1.5.0",
            "_view_name": "HBoxView",
            "box_style": "",
            "children": [
              "IPY_MODEL_b207263cf77e4cfdaa707ae38e25a3ac",
              "IPY_MODEL_dd4c15931c534bc6aaa040baa9b91289",
              "IPY_MODEL_9d9c75bba3fc4db4bbdbdaf4ed4493f2"
            ],
            "layout": "IPY_MODEL_68807f75b5a141cc86f5a50095277810"
          }
        },
        "b207263cf77e4cfdaa707ae38e25a3ac": {
          "model_module": "@jupyter-widgets/controls",
          "model_name": "HTMLModel",
          "model_module_version": "1.5.0",
          "state": {
            "_dom_classes": [],
            "_model_module": "@jupyter-widgets/controls",
            "_model_module_version": "1.5.0",
            "_model_name": "HTMLModel",
            "_view_count": null,
            "_view_module": "@jupyter-widgets/controls",
            "_view_module_version": "1.5.0",
            "_view_name": "HTMLView",
            "description": "",
            "description_tooltip": null,
            "layout": "IPY_MODEL_cd90005486b94c4f9753148df79f0d2c",
            "placeholder": "​",
            "style": "IPY_MODEL_b45781086f2a4348b4fabae9e96510a1",
            "value": "vocab.txt: 100%"
          }
        },
        "dd4c15931c534bc6aaa040baa9b91289": {
          "model_module": "@jupyter-widgets/controls",
          "model_name": "FloatProgressModel",
          "model_module_version": "1.5.0",
          "state": {
            "_dom_classes": [],
            "_model_module": "@jupyter-widgets/controls",
            "_model_module_version": "1.5.0",
            "_model_name": "FloatProgressModel",
            "_view_count": null,
            "_view_module": "@jupyter-widgets/controls",
            "_view_module_version": "1.5.0",
            "_view_name": "ProgressView",
            "bar_style": "success",
            "description": "",
            "description_tooltip": null,
            "layout": "IPY_MODEL_ee0e6f888959407c988fb4d0f3679e47",
            "max": 1780720,
            "min": 0,
            "orientation": "horizontal",
            "style": "IPY_MODEL_9689c1e69dfb488d9a7629c54aa3d381",
            "value": 1780720
          }
        },
        "9d9c75bba3fc4db4bbdbdaf4ed4493f2": {
          "model_module": "@jupyter-widgets/controls",
          "model_name": "HTMLModel",
          "model_module_version": "1.5.0",
          "state": {
            "_dom_classes": [],
            "_model_module": "@jupyter-widgets/controls",
            "_model_module_version": "1.5.0",
            "_model_name": "HTMLModel",
            "_view_count": null,
            "_view_module": "@jupyter-widgets/controls",
            "_view_module_version": "1.5.0",
            "_view_name": "HTMLView",
            "description": "",
            "description_tooltip": null,
            "layout": "IPY_MODEL_9ace0a49032248dfa3e19690543be072",
            "placeholder": "​",
            "style": "IPY_MODEL_812fed9a50ae42dc86ff7d34f3e5f10f",
            "value": " 1.78M/1.78M [00:01&lt;00:00, 1.79MB/s]"
          }
        },
        "68807f75b5a141cc86f5a50095277810": {
          "model_module": "@jupyter-widgets/base",
          "model_name": "LayoutModel",
          "model_module_version": "1.2.0",
          "state": {
            "_model_module": "@jupyter-widgets/base",
            "_model_module_version": "1.2.0",
            "_model_name": "LayoutModel",
            "_view_count": null,
            "_view_module": "@jupyter-widgets/base",
            "_view_module_version": "1.2.0",
            "_view_name": "LayoutView",
            "align_content": null,
            "align_items": null,
            "align_self": null,
            "border": null,
            "bottom": null,
            "display": null,
            "flex": null,
            "flex_flow": null,
            "grid_area": null,
            "grid_auto_columns": null,
            "grid_auto_flow": null,
            "grid_auto_rows": null,
            "grid_column": null,
            "grid_gap": null,
            "grid_row": null,
            "grid_template_areas": null,
            "grid_template_columns": null,
            "grid_template_rows": null,
            "height": null,
            "justify_content": null,
            "justify_items": null,
            "left": null,
            "margin": null,
            "max_height": null,
            "max_width": null,
            "min_height": null,
            "min_width": null,
            "object_fit": null,
            "object_position": null,
            "order": null,
            "overflow": null,
            "overflow_x": null,
            "overflow_y": null,
            "padding": null,
            "right": null,
            "top": null,
            "visibility": null,
            "width": null
          }
        },
        "cd90005486b94c4f9753148df79f0d2c": {
          "model_module": "@jupyter-widgets/base",
          "model_name": "LayoutModel",
          "model_module_version": "1.2.0",
          "state": {
            "_model_module": "@jupyter-widgets/base",
            "_model_module_version": "1.2.0",
            "_model_name": "LayoutModel",
            "_view_count": null,
            "_view_module": "@jupyter-widgets/base",
            "_view_module_version": "1.2.0",
            "_view_name": "LayoutView",
            "align_content": null,
            "align_items": null,
            "align_self": null,
            "border": null,
            "bottom": null,
            "display": null,
            "flex": null,
            "flex_flow": null,
            "grid_area": null,
            "grid_auto_columns": null,
            "grid_auto_flow": null,
            "grid_auto_rows": null,
            "grid_column": null,
            "grid_gap": null,
            "grid_row": null,
            "grid_template_areas": null,
            "grid_template_columns": null,
            "grid_template_rows": null,
            "height": null,
            "justify_content": null,
            "justify_items": null,
            "left": null,
            "margin": null,
            "max_height": null,
            "max_width": null,
            "min_height": null,
            "min_width": null,
            "object_fit": null,
            "object_position": null,
            "order": null,
            "overflow": null,
            "overflow_x": null,
            "overflow_y": null,
            "padding": null,
            "right": null,
            "top": null,
            "visibility": null,
            "width": null
          }
        },
        "b45781086f2a4348b4fabae9e96510a1": {
          "model_module": "@jupyter-widgets/controls",
          "model_name": "DescriptionStyleModel",
          "model_module_version": "1.5.0",
          "state": {
            "_model_module": "@jupyter-widgets/controls",
            "_model_module_version": "1.5.0",
            "_model_name": "DescriptionStyleModel",
            "_view_count": null,
            "_view_module": "@jupyter-widgets/base",
            "_view_module_version": "1.2.0",
            "_view_name": "StyleView",
            "description_width": ""
          }
        },
        "ee0e6f888959407c988fb4d0f3679e47": {
          "model_module": "@jupyter-widgets/base",
          "model_name": "LayoutModel",
          "model_module_version": "1.2.0",
          "state": {
            "_model_module": "@jupyter-widgets/base",
            "_model_module_version": "1.2.0",
            "_model_name": "LayoutModel",
            "_view_count": null,
            "_view_module": "@jupyter-widgets/base",
            "_view_module_version": "1.2.0",
            "_view_name": "LayoutView",
            "align_content": null,
            "align_items": null,
            "align_self": null,
            "border": null,
            "bottom": null,
            "display": null,
            "flex": null,
            "flex_flow": null,
            "grid_area": null,
            "grid_auto_columns": null,
            "grid_auto_flow": null,
            "grid_auto_rows": null,
            "grid_column": null,
            "grid_gap": null,
            "grid_row": null,
            "grid_template_areas": null,
            "grid_template_columns": null,
            "grid_template_rows": null,
            "height": null,
            "justify_content": null,
            "justify_items": null,
            "left": null,
            "margin": null,
            "max_height": null,
            "max_width": null,
            "min_height": null,
            "min_width": null,
            "object_fit": null,
            "object_position": null,
            "order": null,
            "overflow": null,
            "overflow_x": null,
            "overflow_y": null,
            "padding": null,
            "right": null,
            "top": null,
            "visibility": null,
            "width": null
          }
        },
        "9689c1e69dfb488d9a7629c54aa3d381": {
          "model_module": "@jupyter-widgets/controls",
          "model_name": "ProgressStyleModel",
          "model_module_version": "1.5.0",
          "state": {
            "_model_module": "@jupyter-widgets/controls",
            "_model_module_version": "1.5.0",
            "_model_name": "ProgressStyleModel",
            "_view_count": null,
            "_view_module": "@jupyter-widgets/base",
            "_view_module_version": "1.2.0",
            "_view_name": "StyleView",
            "bar_color": null,
            "description_width": ""
          }
        },
        "9ace0a49032248dfa3e19690543be072": {
          "model_module": "@jupyter-widgets/base",
          "model_name": "LayoutModel",
          "model_module_version": "1.2.0",
          "state": {
            "_model_module": "@jupyter-widgets/base",
            "_model_module_version": "1.2.0",
            "_model_name": "LayoutModel",
            "_view_count": null,
            "_view_module": "@jupyter-widgets/base",
            "_view_module_version": "1.2.0",
            "_view_name": "LayoutView",
            "align_content": null,
            "align_items": null,
            "align_self": null,
            "border": null,
            "bottom": null,
            "display": null,
            "flex": null,
            "flex_flow": null,
            "grid_area": null,
            "grid_auto_columns": null,
            "grid_auto_flow": null,
            "grid_auto_rows": null,
            "grid_column": null,
            "grid_gap": null,
            "grid_row": null,
            "grid_template_areas": null,
            "grid_template_columns": null,
            "grid_template_rows": null,
            "height": null,
            "justify_content": null,
            "justify_items": null,
            "left": null,
            "margin": null,
            "max_height": null,
            "max_width": null,
            "min_height": null,
            "min_width": null,
            "object_fit": null,
            "object_position": null,
            "order": null,
            "overflow": null,
            "overflow_x": null,
            "overflow_y": null,
            "padding": null,
            "right": null,
            "top": null,
            "visibility": null,
            "width": null
          }
        },
        "812fed9a50ae42dc86ff7d34f3e5f10f": {
          "model_module": "@jupyter-widgets/controls",
          "model_name": "DescriptionStyleModel",
          "model_module_version": "1.5.0",
          "state": {
            "_model_module": "@jupyter-widgets/controls",
            "_model_module_version": "1.5.0",
            "_model_name": "DescriptionStyleModel",
            "_view_count": null,
            "_view_module": "@jupyter-widgets/base",
            "_view_module_version": "1.2.0",
            "_view_name": "StyleView",
            "description_width": ""
          }
        }
      }
    }
  },
  "nbformat_minor": 0,
  "nbformat": 4,
  "cells": [
    {
      "cell_type": "markdown",
      "metadata": {
        "id": "view-in-github",
        "colab_type": "text"
      },
      "source": [
        "<a href=\"https://colab.research.google.com/github/Shinju-M/Description-Request-Matching/blob/main/BERT_Siamese.ipynb\" target=\"_parent\"><img src=\"https://colab.research.google.com/assets/colab-badge.svg\" alt=\"Open In Colab\"/></a>"
      ]
    },
    {
      "cell_type": "code",
      "source": [
        "!pip install transformers"
      ],
      "metadata": {
        "execution": {
          "iopub.status.busy": "2024-04-18T08:11:20.267894Z",
          "iopub.execute_input": "2024-04-18T08:11:20.268392Z",
          "iopub.status.idle": "2024-04-18T08:11:33.974478Z",
          "shell.execute_reply.started": "2024-04-18T08:11:20.26836Z",
          "shell.execute_reply": "2024-04-18T08:11:33.973069Z"
        },
        "trusted": true,
        "id": "pgVKltm5tuAE"
      },
      "execution_count": 1,
      "outputs": []
    },
    {
      "cell_type": "code",
      "source": [
        "import numpy as np\n",
        "import pandas as pd\n",
        "from sklearn.model_selection import train_test_split\n",
        "from sklearn.linear_model import LogisticRegression\n",
        "from sklearn.model_selection import GridSearchCV\n",
        "from sklearn.model_selection import cross_val_score\n",
        "import torch\n",
        "import torch.nn as nn\n",
        "import transformers\n",
        "import warnings\n",
        "from torch.utils.data import TensorDataset, DataLoader, RandomSampler, SequentialSampler"
      ],
      "metadata": {
        "execution": {
          "iopub.status.busy": "2024-04-18T08:11:41.227849Z",
          "iopub.execute_input": "2024-04-18T08:11:41.228482Z",
          "iopub.status.idle": "2024-04-18T08:11:41.235315Z",
          "shell.execute_reply.started": "2024-04-18T08:11:41.228452Z",
          "shell.execute_reply": "2024-04-18T08:11:41.233852Z"
        },
        "trusted": true,
        "id": "nJ_AAGbOtuAE"
      },
      "execution_count": 2,
      "outputs": []
    },
    {
      "cell_type": "code",
      "source": [
        "from torch.utils.data import Dataset, DataLoader"
      ],
      "metadata": {
        "execution": {
          "iopub.status.busy": "2024-04-18T08:11:41.239556Z",
          "iopub.execute_input": "2024-04-18T08:11:41.239919Z",
          "iopub.status.idle": "2024-04-18T08:11:41.253052Z",
          "shell.execute_reply.started": "2024-04-18T08:11:41.239888Z",
          "shell.execute_reply": "2024-04-18T08:11:41.251627Z"
        },
        "trusted": true,
        "id": "7UrDjnpTtuAF"
      },
      "execution_count": 3,
      "outputs": []
    },
    {
      "cell_type": "code",
      "source": [
        "!wget https://raw.githubusercontent.com/Shinju-M/Description-Request-Matching/main/datasets/valid.csv\n",
        "!wget https://raw.githubusercontent.com/Shinju-M/Description-Request-Matching/main/datasets/train.csv"
      ],
      "metadata": {
        "colab": {
          "base_uri": "https://localhost:8080/"
        },
        "id": "uQ_Mr3oMu_lG",
        "outputId": "123c70dd-3791-45ba-b296-a39da91bbaa6"
      },
      "execution_count": 4,
      "outputs": [
        {
          "output_type": "stream",
          "name": "stdout",
          "text": [
            "--2024-04-24 11:23:36--  https://raw.githubusercontent.com/Shinju-M/Description-Request-Matching/main/datasets/valid.csv\n",
            "Resolving raw.githubusercontent.com (raw.githubusercontent.com)... 185.199.108.133, 185.199.109.133, 185.199.110.133, ...\n",
            "Connecting to raw.githubusercontent.com (raw.githubusercontent.com)|185.199.108.133|:443... connected.\n",
            "HTTP request sent, awaiting response... 200 OK\n",
            "Length: 31200 (30K) [text/plain]\n",
            "Saving to: ‘valid.csv’\n",
            "\n",
            "valid.csv           100%[===================>]  30.47K  --.-KB/s    in 0.01s   \n",
            "\n",
            "2024-04-24 11:23:37 (2.87 MB/s) - ‘valid.csv’ saved [31200/31200]\n",
            "\n",
            "--2024-04-24 11:23:37--  https://raw.githubusercontent.com/Shinju-M/Description-Request-Matching/main/datasets/train.csv\n",
            "Resolving raw.githubusercontent.com (raw.githubusercontent.com)... 185.199.108.133, 185.199.109.133, 185.199.110.133, ...\n",
            "Connecting to raw.githubusercontent.com (raw.githubusercontent.com)|185.199.108.133|:443... connected.\n",
            "HTTP request sent, awaiting response... 200 OK\n",
            "Length: 129605 (127K) [text/plain]\n",
            "Saving to: ‘train.csv’\n",
            "\n",
            "train.csv           100%[===================>] 126.57K  --.-KB/s    in 0.07s   \n",
            "\n",
            "2024-04-24 11:23:37 (1.77 MB/s) - ‘train.csv’ saved [129605/129605]\n",
            "\n"
          ]
        }
      ]
    },
    {
      "cell_type": "code",
      "source": [
        "# model download\n",
        "bert = transformers.AutoModel.from_pretrained('ai-forever/ruBert-large')\n",
        "tokenizer = transformers.BertTokenizer.from_pretrained('ai-forever/ruBert-large')"
      ],
      "metadata": {
        "execution": {
          "iopub.status.busy": "2024-04-18T08:11:41.266802Z",
          "iopub.execute_input": "2024-04-18T08:11:41.267134Z",
          "iopub.status.idle": "2024-04-18T08:12:23.144259Z",
          "shell.execute_reply.started": "2024-04-18T08:11:41.267105Z",
          "shell.execute_reply": "2024-04-18T08:12:23.143303Z"
        },
        "trusted": true,
        "id": "pC9y-J2stuAG",
        "outputId": "2ca35f45-e994-43f9-bb67-de4b1a97b2de",
        "colab": {
          "referenced_widgets": [
            "37c670d490134bb290e28a26c5f9f35a",
            "6dfaba7667264f279004e890aca0172d",
            "b58ffef2b5984969a06cde85145b72ed",
            "d563a984b9084cbfa9d69d661cab2655",
            "a24c8c852ac74bd1934da47b9603804a",
            "7b31891f57844641a54ffcaa84e071df",
            "ba5acb48de2e44299ecb906ce99724d9",
            "cbc56a24a24440eba75adf55b174eb8e",
            "8db87e3f833c4d9fb7169a5b65ac6b87",
            "7a250f12a3924302bbe952ad0ab189a2",
            "12c417086a8a4212b7a9695c56b1ef5a",
            "43a03b6e83d04a638efd3deccafdf4e6",
            "812827fff542473d9eb5d22e7c3ec2e1",
            "2fa5bd81d2174a4b849df37bd17784e9",
            "6c9b6777de484c2f98be323731017070",
            "1185ec504a0f4ed69e25dd2ae2a0b99a",
            "f79c8d289592453da737718d1af3257c",
            "dfd42989f29e4dc28e052fd370f5f7d5",
            "0d2315e3d40744288f367d5ecbe7fb07",
            "7fe2baede492449c90b82215e296fb14",
            "b090c747605843f397f1cc167d4d067e",
            "745a22f9959447cda4890eb6997c6759",
            "12b2b44573f04ccdbc24f1bea970ca47",
            "b207263cf77e4cfdaa707ae38e25a3ac",
            "dd4c15931c534bc6aaa040baa9b91289",
            "9d9c75bba3fc4db4bbdbdaf4ed4493f2",
            "68807f75b5a141cc86f5a50095277810",
            "cd90005486b94c4f9753148df79f0d2c",
            "b45781086f2a4348b4fabae9e96510a1",
            "ee0e6f888959407c988fb4d0f3679e47",
            "9689c1e69dfb488d9a7629c54aa3d381",
            "9ace0a49032248dfa3e19690543be072",
            "812fed9a50ae42dc86ff7d34f3e5f10f"
          ],
          "base_uri": "https://localhost:8080/",
          "height": 239
        }
      },
      "execution_count": 5,
      "outputs": [
        {
          "output_type": "stream",
          "name": "stderr",
          "text": [
            "/usr/local/lib/python3.10/dist-packages/huggingface_hub/utils/_token.py:88: UserWarning: \n",
            "The secret `HF_TOKEN` does not exist in your Colab secrets.\n",
            "To authenticate with the Hugging Face Hub, create a token in your settings tab (https://huggingface.co/settings/tokens), set it as secret in your Google Colab and restart your session.\n",
            "You will be able to reuse this secret in all of your notebooks.\n",
            "Please note that authentication is recommended but still optional to access public models or datasets.\n",
            "  warnings.warn(\n"
          ]
        },
        {
          "output_type": "display_data",
          "data": {
            "text/plain": [
              "config.json:   0%|          | 0.00/591 [00:00<?, ?B/s]"
            ],
            "application/vnd.jupyter.widget-view+json": {
              "version_major": 2,
              "version_minor": 0,
              "model_id": "37c670d490134bb290e28a26c5f9f35a"
            }
          },
          "metadata": {}
        },
        {
          "output_type": "display_data",
          "data": {
            "text/plain": [
              "pytorch_model.bin:   0%|          | 0.00/1.71G [00:00<?, ?B/s]"
            ],
            "application/vnd.jupyter.widget-view+json": {
              "version_major": 2,
              "version_minor": 0,
              "model_id": "43a03b6e83d04a638efd3deccafdf4e6"
            }
          },
          "metadata": {}
        },
        {
          "output_type": "display_data",
          "data": {
            "text/plain": [
              "vocab.txt:   0%|          | 0.00/1.78M [00:00<?, ?B/s]"
            ],
            "application/vnd.jupyter.widget-view+json": {
              "version_major": 2,
              "version_minor": 0,
              "model_id": "12b2b44573f04ccdbc24f1bea970ca47"
            }
          },
          "metadata": {}
        }
      ]
    },
    {
      "cell_type": "code",
      "source": [
        "class TrainMatchingDataset(Dataset):\n",
        "    def __init__(self):\n",
        "        super().__init__()\n",
        "        self.df = pd.read_csv('/content/train.csv', sep = ';')\n",
        "\n",
        "    def __len__(self):\n",
        "        return self.df.shape[0]\n",
        "\n",
        "    def __getitem__(self, item):\n",
        "        row = self.df.iloc[item]\n",
        "        req = tokenizer(\n",
        "            row['request'],\n",
        "            add_special_tokens=True,\n",
        "            padding = 'max_length',\n",
        "            max_length=512,\n",
        "            return_tensors='pt'\n",
        "        )\n",
        "\n",
        "        prof = tokenizer(\n",
        "            row['description'],\n",
        "            add_special_tokens=True,\n",
        "            max_length=512,\n",
        "            truncation=True,\n",
        "            padding = 'max_length',\n",
        "            return_tensors='pt'\n",
        "        )\n",
        "        y = row['match_bin']\n",
        "        return req, prof, torch.tensor(y)"
      ],
      "metadata": {
        "execution": {
          "iopub.status.busy": "2024-04-18T09:23:20.782932Z",
          "iopub.execute_input": "2024-04-18T09:23:20.784738Z",
          "iopub.status.idle": "2024-04-18T09:23:20.793886Z",
          "shell.execute_reply.started": "2024-04-18T09:23:20.784687Z",
          "shell.execute_reply": "2024-04-18T09:23:20.792426Z"
        },
        "trusted": true,
        "id": "WHaM6r2JtuAH"
      },
      "execution_count": 6,
      "outputs": []
    },
    {
      "cell_type": "code",
      "source": [
        "class ValidMatchingDataset(Dataset):\n",
        "    def __init__(self):\n",
        "        super().__init__()\n",
        "        self.df = pd.read_csv('/content/valid.csv', sep = ';')\n",
        "\n",
        "    def __len__(self):\n",
        "        return self.df.shape[0]\n",
        "\n",
        "    def __getitem__(self, item):\n",
        "        row = self.df.iloc[item]\n",
        "        req = tokenizer(\n",
        "            row['request'],\n",
        "            add_special_tokens=True,\n",
        "            padding = 'max_length',\n",
        "            max_length=512,\n",
        "            return_tensors='pt'\n",
        "        )\n",
        "\n",
        "        prof = tokenizer(\n",
        "            row['description'],\n",
        "            add_special_tokens=True,\n",
        "            max_length=512,\n",
        "            truncation=True,\n",
        "            padding = 'max_length',\n",
        "            return_tensors='pt'\n",
        "        )\n",
        "        y = row['match_bin']\n",
        "        return req, prof, torch.tensor(y)"
      ],
      "metadata": {
        "execution": {
          "iopub.status.busy": "2024-04-18T09:23:25.161009Z",
          "iopub.execute_input": "2024-04-18T09:23:25.161406Z",
          "iopub.status.idle": "2024-04-18T09:23:25.170436Z",
          "shell.execute_reply.started": "2024-04-18T09:23:25.161376Z",
          "shell.execute_reply": "2024-04-18T09:23:25.168719Z"
        },
        "trusted": true,
        "id": "OtQJZyK1tuAH"
      },
      "execution_count": 7,
      "outputs": []
    },
    {
      "cell_type": "code",
      "source": [
        "for param in bert.parameters():\n",
        "    param.requires_grad = False"
      ],
      "metadata": {
        "execution": {
          "iopub.status.busy": "2024-04-18T09:23:28.286639Z",
          "iopub.execute_input": "2024-04-18T09:23:28.287212Z",
          "iopub.status.idle": "2024-04-18T09:23:28.301192Z",
          "shell.execute_reply.started": "2024-04-18T09:23:28.287169Z",
          "shell.execute_reply": "2024-04-18T09:23:28.300062Z"
        },
        "trusted": true,
        "id": "YB8CwPnatuAI"
      },
      "execution_count": 10,
      "outputs": []
    },
    {
      "cell_type": "code",
      "source": [
        "class SiameseNetwork(nn.Module):\n",
        "    def __init__(self, bert):\n",
        "        super(SiameseNetwork, self).__init__()\n",
        "        self.bert = bert\n",
        "        self.head = nn.Sequential(\n",
        "            # nn.Dropout(p=0.5),\n",
        "            nn.Linear(2048, 512),\n",
        "            nn.BatchNorm1d(512),\n",
        "            nn.ReLU(),\n",
        "\n",
        "            nn.Dropout(p=0.2),\n",
        "            nn.Linear(512, 64),\n",
        "            nn.BatchNorm1d(64),\n",
        "            nn.ReLU(),\n",
        "            # nn.Dropout(p=0.5),\n",
        "\n",
        "            nn.Linear(64, 2),\n",
        "            nn.Softmax(dim=1)\n",
        "            # nn.Sigmoid(),\n",
        "        )\n",
        "\n",
        "    def forward(self, req, prof):\n",
        "\n",
        "        req_output = self.bert(req['input_ids'].squeeze(1), req['attention_mask'].squeeze(1))\n",
        "        req_mean = torch.mean(req_output[0][:, 0:, :], 1)\n",
        "\n",
        "        prof_output = self.bert(prof['input_ids'].squeeze(1), prof['attention_mask'].squeeze(1))\n",
        "        prof_mean = torch.mean(prof_output[0][:, 0:, :], 1)\n",
        "\n",
        "        #combined = req_mean * prof_mean\n",
        "        combined = torch.cat((req_mean.clone().detach(), prof_mean.clone().detach()), dim=-1)\n",
        "\n",
        "        x = self.head(combined)\n",
        "        return x"
      ],
      "metadata": {
        "execution": {
          "iopub.status.busy": "2024-04-18T09:23:30.309701Z",
          "iopub.execute_input": "2024-04-18T09:23:30.310124Z",
          "iopub.status.idle": "2024-04-18T09:23:30.320472Z",
          "shell.execute_reply.started": "2024-04-18T09:23:30.310086Z",
          "shell.execute_reply": "2024-04-18T09:23:30.319142Z"
        },
        "trusted": true,
        "id": "wgk9kn9jtuAJ"
      },
      "execution_count": 11,
      "outputs": []
    },
    {
      "cell_type": "code",
      "source": [
        "train_dataset = TrainMatchingDataset()\n",
        "valid_dataset = ValidMatchingDataset()\n",
        "\n",
        "train_dataloader = DataLoader(train_dataset, batch_size=16)\n",
        "valid_dataloader = DataLoader(valid_dataset, batch_size=16)"
      ],
      "metadata": {
        "execution": {
          "iopub.status.busy": "2024-04-18T09:23:33.177666Z",
          "iopub.execute_input": "2024-04-18T09:23:33.178126Z",
          "iopub.status.idle": "2024-04-18T09:23:33.213156Z",
          "shell.execute_reply.started": "2024-04-18T09:23:33.17809Z",
          "shell.execute_reply": "2024-04-18T09:23:33.211861Z"
        },
        "trusted": true,
        "id": "QjD1bZXwtuAJ"
      },
      "execution_count": 21,
      "outputs": []
    },
    {
      "cell_type": "code",
      "source": [
        "model = SiameseNetwork(bert)\n",
        "\n",
        "from torch.optim import AdamW\n",
        "\n",
        "optimizer = AdamW(model.parameters(), lr = 5e-4)\n",
        "\n",
        "cross_entropy = nn.CrossEntropyLoss()\n",
        "epochs = 20"
      ],
      "metadata": {
        "execution": {
          "iopub.status.busy": "2024-04-18T09:23:36.945406Z",
          "iopub.execute_input": "2024-04-18T09:23:36.946203Z",
          "iopub.status.idle": "2024-04-18T09:23:36.966133Z",
          "shell.execute_reply.started": "2024-04-18T09:23:36.946163Z",
          "shell.execute_reply": "2024-04-18T09:23:36.965015Z"
        },
        "trusted": true,
        "id": "iyban22GtuAK"
      },
      "execution_count": 12,
      "outputs": []
    },
    {
      "cell_type": "code",
      "source": [
        "def train():\n",
        "    model.train()\n",
        "    total_loss, total_accuracy = 0, 0\n",
        "    total_preds = []\n",
        "    for step, batch in enumerate(train_dataloader):\n",
        "        reqs, profs, labels = batch\n",
        "        model.zero_grad()\n",
        "        preds = model(reqs, profs)\n",
        "        loss = cross_entropy(preds, labels)\n",
        "        total_loss += loss.item()\n",
        "        loss.backward()\n",
        "        torch.nn.utils.clip_grad_norm_(model.parameters(), 1.0)\n",
        "        optimizer.step()\n",
        "\n",
        "        preds = preds.detach().cpu().numpy()\n",
        "        total_preds.append(preds)\n",
        "\n",
        "    avg_loss = total_loss / len(train_dataloader)\n",
        "    total_preds = np.concatenate(total_preds, axis = 0)\n",
        "    return avg_loss, total_preds"
      ],
      "metadata": {
        "execution": {
          "iopub.status.busy": "2024-04-18T09:23:39.893632Z",
          "iopub.execute_input": "2024-04-18T09:23:39.894079Z",
          "iopub.status.idle": "2024-04-18T09:23:39.90173Z",
          "shell.execute_reply.started": "2024-04-18T09:23:39.894044Z",
          "shell.execute_reply": "2024-04-18T09:23:39.900802Z"
        },
        "trusted": true,
        "id": "VUSpuL3ktuAK"
      },
      "execution_count": 23,
      "outputs": []
    },
    {
      "cell_type": "code",
      "source": [
        "def evaluate():\n",
        "    model.eval()\n",
        "    total_loss, total_accuracy = 0,0\n",
        "    total_preds = []\n",
        "\n",
        "    for step, batch in enumerate(valid_dataloader):\n",
        "        req, prof, labels = batch\n",
        "\n",
        "        with torch.no_grad():\n",
        "            preds = model(req, prof)\n",
        "            loss = cross_entropy(preds, labels)\n",
        "            total_loss = total_loss + loss.item()\n",
        "            preds = preds.detach().cpu().numpy()\n",
        "            total_preds.append(preds)\n",
        "\n",
        "    avg_loss = total_loss / len(valid_dataloader)\n",
        "    total_preds = np.concatenate(total_preds, axis = 0)\n",
        "\n",
        "    return avg_loss, total_preds"
      ],
      "metadata": {
        "execution": {
          "iopub.status.busy": "2024-04-18T09:23:42.581898Z",
          "iopub.execute_input": "2024-04-18T09:23:42.582524Z",
          "iopub.status.idle": "2024-04-18T09:23:42.589316Z",
          "shell.execute_reply.started": "2024-04-18T09:23:42.58249Z",
          "shell.execute_reply": "2024-04-18T09:23:42.588319Z"
        },
        "trusted": true,
        "id": "cysp3nnxtuAL"
      },
      "execution_count": 24,
      "outputs": []
    },
    {
      "cell_type": "code",
      "source": [
        "from google.colab import drive\n",
        "drive.mount('/content/drive')"
      ],
      "metadata": {
        "colab": {
          "base_uri": "https://localhost:8080/"
        },
        "id": "ye-2sd1J37bn",
        "outputId": "fbf961ad-860a-4f9b-8b8f-7ae2930dd4eb"
      },
      "execution_count": 8,
      "outputs": [
        {
          "output_type": "stream",
          "name": "stdout",
          "text": [
            "Mounted at /content/drive\n"
          ]
        }
      ]
    },
    {
      "cell_type": "code",
      "source": [
        "best_valid_loss = float('inf')\n",
        "\n",
        "train_losses = []\n",
        "valid_losses = []\n",
        "\n",
        "for epoch in range(epochs):\n",
        "    print('\\n Epoch{:} / {:}'.format(epoch+1, epochs))\n",
        "\n",
        "    train_loss, _ = train()\n",
        "    valid_loss, _ = evaluate()\n",
        "\n",
        "    if valid_loss < best_valid_loss:\n",
        "        best_valid_loss = valid_loss\n",
        "        torch.save(model.state_dict(), f'/content/drive/MyDrive/siamese_{epoch}_bin.pt')\n",
        "\n",
        "    train_losses.append(train_loss)\n",
        "    valid_losses.append(valid_loss)\n",
        "    print(f'\\nTraining loss: {train_loss:.3f}')\n",
        "    print(f'Validation loss: {valid_loss:.3f}')"
      ],
      "metadata": {
        "execution": {
          "iopub.status.busy": "2024-04-18T09:24:07.845053Z",
          "iopub.execute_input": "2024-04-18T09:24:07.845512Z",
          "iopub.status.idle": "2024-04-18T14:16:12.238203Z",
          "shell.execute_reply.started": "2024-04-18T09:24:07.845476Z",
          "shell.execute_reply": "2024-04-18T14:16:12.234004Z"
        },
        "trusted": true,
        "id": "81TmA7jrtuAL",
        "outputId": "cd52ba8e-8833-46ca-cab5-a1224ac881e9",
        "colab": {
          "base_uri": "https://localhost:8080/"
        }
      },
      "execution_count": null,
      "outputs": [
        {
          "output_type": "stream",
          "name": "stdout",
          "text": [
            "\n",
            " Epoch1 / 20\n",
            "\n",
            "Training loss: 0.667\n",
            "Validation loss: 0.682\n",
            "\n",
            " Epoch2 / 20\n",
            "\n",
            "Training loss: 0.505\n",
            "Validation loss: 0.659\n",
            "\n",
            " Epoch3 / 20\n",
            "\n",
            "Training loss: 0.461\n",
            "Validation loss: 0.637\n",
            "\n",
            " Epoch4 / 20\n",
            "\n",
            "Training loss: 0.426\n",
            "Validation loss: 0.620\n",
            "\n",
            " Epoch5 / 20\n",
            "\n",
            "Training loss: 0.406\n",
            "Validation loss: 0.604\n",
            "\n",
            " Epoch6 / 20\n",
            "\n",
            "Training loss: 0.392\n",
            "Validation loss: 0.589\n",
            "\n",
            " Epoch7 / 20\n",
            "\n",
            "Training loss: 0.379\n",
            "Validation loss: 0.575\n",
            "\n",
            " Epoch8 / 20\n",
            "\n",
            "Training loss: 0.372\n",
            "Validation loss: 0.567\n",
            "\n",
            " Epoch9 / 20\n",
            "\n",
            "Training loss: 0.366\n",
            "Validation loss: 0.565\n",
            "\n",
            " Epoch10 / 20\n",
            "\n",
            "Training loss: 0.359\n",
            "Validation loss: 0.575\n",
            "\n",
            " Epoch11 / 20\n",
            "\n",
            "Training loss: 0.352\n",
            "Validation loss: 0.586\n",
            "\n",
            " Epoch12 / 20\n",
            "\n",
            "Training loss: 0.352\n",
            "Validation loss: 0.581\n",
            "\n",
            " Epoch13 / 20\n"
          ]
        }
      ]
    },
    {
      "cell_type": "code",
      "source": [
        "path = '/content/drive/MyDrive/siamese_8_bin.pt'\n",
        "model.load_state_dict(torch.load(path))"
      ],
      "metadata": {
        "colab": {
          "base_uri": "https://localhost:8080/"
        },
        "id": "kCqM2ILI4Uwu",
        "outputId": "e4b932ab-83e9-4ed3-ea63-8f494cf87efb"
      },
      "execution_count": 13,
      "outputs": [
        {
          "output_type": "execute_result",
          "data": {
            "text/plain": [
              "<All keys matched successfully>"
            ]
          },
          "metadata": {},
          "execution_count": 13
        }
      ]
    },
    {
      "cell_type": "code",
      "source": [
        "def match(request, profile):\n",
        "\n",
        "    model.eval()\n",
        "    req = tokenizer(\n",
        "        request,\n",
        "        add_special_tokens=True,\n",
        "        padding = 'max_length',\n",
        "        max_length = 512,\n",
        "        return_tensors = 'pt'\n",
        "    )\n",
        "\n",
        "    prof = tokenizer(\n",
        "        profile,\n",
        "        add_special_tokens=True,\n",
        "        max_length=512,\n",
        "        truncation=True,\n",
        "        padding = 'max_length',\n",
        "        return_tensors = 'pt'\n",
        "    )\n",
        "\n",
        "    output = model(req, prof)\n",
        "    _, prediction = torch.max(output, dim=1)\n",
        "    return prediction"
      ],
      "metadata": {
        "execution": {
          "iopub.status.busy": "2024-04-18T14:23:22.050599Z",
          "iopub.execute_input": "2024-04-18T14:23:22.05112Z",
          "iopub.status.idle": "2024-04-18T14:23:22.058496Z",
          "shell.execute_reply.started": "2024-04-18T14:23:22.051074Z",
          "shell.execute_reply": "2024-04-18T14:23:22.057307Z"
        },
        "trusted": true,
        "id": "Kpbb_YAwtuAL"
      },
      "execution_count": 25,
      "outputs": []
    },
    {
      "cell_type": "code",
      "source": [
        "!wget https://raw.githubusercontent.com/Shinju-M/Description-Request-Matching/main/datasets/test.csv"
      ],
      "metadata": {
        "id": "o2Oyfx-K7rfE"
      },
      "execution_count": null,
      "outputs": []
    },
    {
      "cell_type": "code",
      "source": [
        "test_df = pd.read_csv('/content/test.csv', sep=';')"
      ],
      "metadata": {
        "execution": {
          "iopub.status.busy": "2024-04-18T14:36:24.139956Z",
          "iopub.execute_input": "2024-04-18T14:36:24.140334Z",
          "iopub.status.idle": "2024-04-18T14:36:24.159241Z",
          "shell.execute_reply.started": "2024-04-18T14:36:24.140305Z",
          "shell.execute_reply": "2024-04-18T14:36:24.158057Z"
        },
        "trusted": true,
        "id": "JGLTATZ2tuAM"
      },
      "execution_count": 16,
      "outputs": []
    },
    {
      "cell_type": "code",
      "source": [
        "request = 'Здравствуйте. Нужен семейный психолог. Тривиально... семья распадается . Но этого бы никто не хотел'\n",
        "profile = test_df['description'][3]\n",
        "match(request, profile)"
      ],
      "metadata": {
        "execution": {
          "iopub.status.busy": "2024-04-18T14:36:40.558312Z",
          "iopub.execute_input": "2024-04-18T14:36:40.559438Z",
          "iopub.status.idle": "2024-04-18T14:36:47.042257Z",
          "shell.execute_reply.started": "2024-04-18T14:36:40.559384Z",
          "shell.execute_reply": "2024-04-18T14:36:47.041122Z"
        },
        "trusted": true,
        "id": "2dgolOP3tuAM",
        "outputId": "73c12d3f-eeb0-4e39-d0fa-fbfb5fa1a3cb",
        "colab": {
          "base_uri": "https://localhost:8080/"
        }
      },
      "execution_count": 26,
      "outputs": [
        {
          "output_type": "execute_result",
          "data": {
            "text/plain": [
              "tensor([1])"
            ]
          },
          "metadata": {},
          "execution_count": 26
        }
      ]
    },
    {
      "cell_type": "code",
      "source": [
        "test_pairs = test_df[['request', 'description']].values.astype('str').tolist()"
      ],
      "metadata": {
        "execution": {
          "iopub.status.busy": "2024-04-18T14:36:34.986537Z",
          "iopub.execute_input": "2024-04-18T14:36:34.98735Z",
          "iopub.status.idle": "2024-04-18T14:36:34.994118Z",
          "shell.execute_reply.started": "2024-04-18T14:36:34.987303Z",
          "shell.execute_reply": "2024-04-18T14:36:34.992952Z"
        },
        "trusted": true,
        "id": "huJF4ga3tuAM"
      },
      "execution_count": 27,
      "outputs": []
    },
    {
      "cell_type": "code",
      "source": [
        "y_true = test_df['match_bin']\n",
        "y_preds = []\n",
        "for request, profile in test_pairs:\n",
        "    y_preds.append(int(match(request, profile)))"
      ],
      "metadata": {
        "execution": {
          "iopub.status.busy": "2024-04-18T14:38:00.940068Z",
          "iopub.execute_input": "2024-04-18T14:38:00.941043Z",
          "iopub.status.idle": "2024-04-18T14:39:37.534782Z",
          "shell.execute_reply.started": "2024-04-18T14:38:00.940931Z",
          "shell.execute_reply": "2024-04-18T14:39:37.53372Z"
        },
        "trusted": true,
        "id": "LHXNGvfOtuAM"
      },
      "execution_count": 30,
      "outputs": []
    },
    {
      "cell_type": "code",
      "source": [
        "y_true.tolist()"
      ],
      "metadata": {
        "colab": {
          "base_uri": "https://localhost:8080/"
        },
        "id": "qwSaDAIg9szn",
        "outputId": "f300c172-cc1f-4d14-c308-0a9f814a492a"
      },
      "execution_count": 33,
      "outputs": [
        {
          "output_type": "execute_result",
          "data": {
            "text/plain": [
              "[0, 0, 1, 1, 0, 0, 1, 0, 1, 1, 1, 1]"
            ]
          },
          "metadata": {},
          "execution_count": 33
        }
      ]
    },
    {
      "cell_type": "code",
      "source": [
        "y_preds"
      ],
      "metadata": {
        "colab": {
          "base_uri": "https://localhost:8080/"
        },
        "id": "o7Mv2DTW9uZ2",
        "outputId": "7f81073b-88f4-4c84-c990-90c4b9adfaef"
      },
      "execution_count": 34,
      "outputs": [
        {
          "output_type": "execute_result",
          "data": {
            "text/plain": [
              "[1, 0, 0, 1, 0, 1, 0, 0, 0, 1, 1, 1]"
            ]
          },
          "metadata": {},
          "execution_count": 34
        }
      ]
    },
    {
      "cell_type": "code",
      "source": [
        "from sklearn.metrics import classification_report\n",
        "print(classification_report(y_true, y_preds))"
      ],
      "metadata": {
        "execution": {
          "iopub.status.busy": "2024-04-18T14:40:51.27904Z",
          "iopub.execute_input": "2024-04-18T14:40:51.279439Z",
          "iopub.status.idle": "2024-04-18T14:40:51.299209Z",
          "shell.execute_reply.started": "2024-04-18T14:40:51.279405Z",
          "shell.execute_reply": "2024-04-18T14:40:51.298052Z"
        },
        "trusted": true,
        "id": "u7CRWzGrtuAN",
        "outputId": "06f0485e-b577-4d45-8f3a-fa92f503781a",
        "colab": {
          "base_uri": "https://localhost:8080/"
        }
      },
      "execution_count": 31,
      "outputs": [
        {
          "output_type": "stream",
          "name": "stdout",
          "text": [
            "              precision    recall  f1-score   support\n",
            "\n",
            "           0       0.50      0.60      0.55         5\n",
            "           1       0.67      0.57      0.62         7\n",
            "\n",
            "    accuracy                           0.58        12\n",
            "   macro avg       0.58      0.59      0.58        12\n",
            "weighted avg       0.60      0.58      0.59        12\n",
            "\n"
          ]
        }
      ]
    }
  ]
}