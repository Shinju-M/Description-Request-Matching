{
  "cells": [
    {
      "cell_type": "markdown",
      "metadata": {
        "id": "view-in-github",
        "colab_type": "text"
      },
      "source": [
        "<a href=\"https://colab.research.google.com/github/Shinju-M/Description-Request-Matching/blob/main/BERT_Matching.ipynb\" target=\"_parent\"><img src=\"https://colab.research.google.com/assets/colab-badge.svg\" alt=\"Open In Colab\"/></a>"
      ]
    },
    {
      "cell_type": "code",
      "execution_count": null,
      "metadata": {
        "id": "eW7YV7SFjdY-"
      },
      "outputs": [],
      "source": [
        "!pip install datasets"
      ]
    },
    {
      "cell_type": "code",
      "execution_count": null,
      "metadata": {
        "id": "iHiJjbEyiyOD"
      },
      "outputs": [],
      "source": [
        "import pandas as pd\n",
        "import numpy as np\n",
        "import random\n",
        "import torch\n",
        "import transformers\n",
        "import torch.nn as nn\n",
        "from transformers import AutoModel, BertTokenizer, BertForSequenceClassification\n",
        "from transformers import TrainingArguments, Trainer\n",
        "from datasets import load_metric, Dataset\n",
        "from sklearn.metrics import classification_report, f1_score\n",
        "from torch.utils.data import TensorDataset, DataLoader, RandomSampler, SequentialSampler\n",
        "#device = torch.device('cuda')\n",
        "import tqdm"
      ]
    },
    {
      "cell_type": "code",
      "execution_count": null,
      "metadata": {
        "id": "ph4GroylN_P2"
      },
      "outputs": [],
      "source": [
        "from torch.utils.tensorboard import SummaryWriter\n",
        "\n",
        "torch.manual_seed(1000)\n",
        "\n",
        "writer = SummaryWriter()"
      ]
    },
    {
      "cell_type": "code",
      "execution_count": null,
      "metadata": {
        "colab": {
          "base_uri": "https://localhost:8080/"
        },
        "id": "5haqWTH03NKK",
        "outputId": "feff27a1-b52a-413d-a864-4bf7fbf5976b"
      },
      "outputs": [
        {
          "output_type": "stream",
          "name": "stderr",
          "text": [
            "[nltk_data] Downloading package stopwords to /root/nltk_data...\n",
            "[nltk_data]   Unzipping corpora/stopwords.zip.\n"
          ]
        }
      ],
      "source": [
        "import nltk\n",
        "from nltk.tokenize import sent_tokenize, word_tokenize\n",
        "from nltk.corpus import stopwords\n",
        "from string import punctuation\n",
        "import re\n",
        "nltk.download('stopwords')\n",
        "stop_ru = set(stopwords.words('russian'))"
      ]
    },
    {
      "cell_type": "code",
      "source": [
        "!wget https://raw.githubusercontent.com/Shinju-M/Description-Request-Matching/main/datasets/data_train.csv\n",
        "!wget https://raw.githubusercontent.com/Shinju-M/Description-Request-Matching/main/datasets/data_test.csv"
      ],
      "metadata": {
        "id": "TtqNKb9e6LHa"
      },
      "execution_count": null,
      "outputs": []
    },
    {
      "cell_type": "code",
      "execution_count": null,
      "metadata": {
        "id": "MHkR_dovjKEM"
      },
      "outputs": [],
      "source": [
        "# train data\n",
        "train_df = pd.read_csv('data_train.csv', sep = ',', index_col=False)\n",
        "train_profiles = train_df['profile'].astype('str')\n",
        "train_requests = train_df['text'].astype('str')\n",
        "train_labels_bin = train_df['match_bin']\n",
        "train_labels_cat = train_df['match_cat'].apply(lambda x: x - 1)"
      ]
    },
    {
      "cell_type": "code",
      "execution_count": null,
      "metadata": {
        "id": "2AsdA8wwC5wY"
      },
      "outputs": [],
      "source": [
        "# test data\n",
        "test_df = pd.read_csv('data_test.csv', sep = ',')\n",
        "test_profiles = test_df['profile'].astype('str')\n",
        "test_requests = test_df['text'].astype('str')\n",
        "test_labels_bin = test_df['match_bin']\n",
        "test_labels_cat = test_df['match_cat'].apply(lambda x: x - 1)"
      ]
    },
    {
      "cell_type": "markdown",
      "metadata": {
        "id": "8TVneycBIov5"
      },
      "source": [
        "Preprocessing"
      ]
    },
    {
      "cell_type": "code",
      "execution_count": null,
      "metadata": {
        "id": "3BHLl46B4UC9"
      },
      "outputs": [],
      "source": [
        "# clean function\n",
        "\n",
        "# def clean_text(text):\n",
        "#   text = re.sub(r'[,.?“/!@#$:#—ツ►๑۩۞۩•*”˜˜”*°°*`)\"(]', '', text)\n",
        "#   text = [word.strip().lower() for word in text.split()]\n",
        "#   return ' '.join(text)"
      ]
    },
    {
      "cell_type": "code",
      "execution_count": null,
      "metadata": {
        "id": "zOpxCdRn4jmu"
      },
      "outputs": [],
      "source": [
        "# clean and lemmatize function\n",
        "# import pymystem3\n",
        "# m = pymystem3.Mystem()\n",
        "\n",
        "# def clean_text(text):\n",
        "#   text = re.sub(r'[,.?“/!@#$:#—ツ►๑۩۞۩•*”˜˜”*°°*`)\"(]', '', text)\n",
        "#   text = [word.strip().lower() for word in m.lemmatize(text)]\n",
        "#   return ' '.join(text)"
      ]
    },
    {
      "cell_type": "code",
      "execution_count": null,
      "metadata": {
        "id": "3f7PfzzxNICV"
      },
      "outputs": [],
      "source": [
        "# simplier clean for BERT\n",
        "\n",
        "def clean_text(text):\n",
        "  text = re.sub(r'\\n', ' ', text)\n",
        "  text = re.sub(r'\"', '', text)\n",
        "  return text"
      ]
    },
    {
      "cell_type": "code",
      "execution_count": null,
      "metadata": {
        "id": "2a7SeDG1osV6"
      },
      "outputs": [],
      "source": [
        "# train data cleaning\n",
        "train_profiles_clean = []\n",
        "for text in train_profiles:\n",
        "  text = clean_text(text)\n",
        "  train_profiles_clean.append(text)\n",
        "\n",
        "train_df['profile'] = train_profiles_clean\n",
        "\n",
        "train_requests_clean = []\n",
        "for text in train_requests:\n",
        "  text = clean_text(text)\n",
        "  train_requests_clean.append(text)\n",
        "\n",
        "train_df['text'] = train_requests_clean"
      ]
    },
    {
      "cell_type": "code",
      "execution_count": null,
      "metadata": {
        "id": "gsmL110UEM0J"
      },
      "outputs": [],
      "source": [
        "# test data cleaning\n",
        "test_profiles_clean = []\n",
        "for text in test_profiles:\n",
        "  text = clean_text(text)\n",
        "  test_profiles_clean.append(text)\n",
        "\n",
        "test_df['profile'] = test_profiles_clean\n",
        "\n",
        "test_requests_clean = []\n",
        "for text in test_requests:\n",
        "  text = clean_text(text)\n",
        "  test_requests_clean.append(text)\n",
        "\n",
        "test_df['text'] = test_requests_clean"
      ]
    },
    {
      "cell_type": "code",
      "source": [
        "# train_df.to_csv('data_train.csv')\n",
        "# test_df.to_csv('data_test.csv')"
      ],
      "metadata": {
        "id": "0D6AXf4qyeec"
      },
      "execution_count": null,
      "outputs": []
    },
    {
      "cell_type": "code",
      "execution_count": null,
      "metadata": {
        "colab": {
          "base_uri": "https://localhost:8080/",
          "height": 448
        },
        "id": "mdLhsEIgJj7H",
        "outputId": "2b8734bc-1f91-4c4f-d42f-dbad69bf6026"
      },
      "outputs": [
        {
          "output_type": "execute_result",
          "data": {
            "text/plain": [
              "<Axes: >"
            ]
          },
          "metadata": {},
          "execution_count": 15
        },
        {
          "output_type": "display_data",
          "data": {
            "text/plain": [
              "<Figure size 640x480 with 1 Axes>"
            ],
            "image/png": "[encoded data removed]"
          },
          "metadata": {}
        }
      ],
      "source": [
        "# text length distribution graph\n",
        "\n",
        "# seq_len = [len(str(i).split()) for i in train_pairs]\n",
        "# pd.Series(seq_len).hist(bins = 50)"
      ]
    },
    {
      "cell_type": "markdown",
      "metadata": {
        "id": "cyXgJ2CeJjDY"
      },
      "source": [
        "BERT"
      ]
    },
    {
      "cell_type": "code",
      "execution_count": null,
      "metadata": {
        "id": "A4qwq56cOsT2"
      },
      "outputs": [],
      "source": [
        "bert = AutoModel.from_pretrained('DeepPavlov/rubert-base-cased-sentence')\n",
        "\n",
        "tokenizer = BertTokenizer.from_pretrained('DeepPavlov/rubert-base-cased-sentence')"
      ]
    },
    {
      "cell_type": "code",
      "execution_count": null,
      "metadata": {
        "id": "DxlhVbsXGvSZ"
      },
      "outputs": [],
      "source": [
        "batch_size = 8"
      ]
    },
    {
      "cell_type": "code",
      "execution_count": null,
      "metadata": {
        "id": "ZLsPGVz6fXt3"
      },
      "outputs": [],
      "source": [
        "MAX_LEN = 512"
      ]
    },
    {
      "cell_type": "code",
      "execution_count": null,
      "metadata": {
        "colab": {
          "base_uri": "https://localhost:8080/"
        },
        "id": "cGm6sbI_sPyV",
        "outputId": "0d766527-8110-49ea-d0a1-3baa16858682"
      },
      "outputs": [
        {
          "output_type": "stream",
          "name": "stderr",
          "text": [
            "Be aware, overflowing tokens are not returned for the setting you have chosen, i.e. sequence pairs with the 'longest_first' truncation strategy. So the returned list will always be empty even if some tokens have been removed.\n",
            "Be aware, overflowing tokens are not returned for the setting you have chosen, i.e. sequence pairs with the 'longest_first' truncation strategy. So the returned list will always be empty even if some tokens have been removed.\n",
            "Be aware, overflowing tokens are not returned for the setting you have chosen, i.e. sequence pairs with the 'longest_first' truncation strategy. So the returned list will always be empty even if some tokens have been removed.\n",
            "Be aware, overflowing tokens are not returned for the setting you have chosen, i.e. sequence pairs with the 'longest_first' truncation strategy. So the returned list will always be empty even if some tokens have been removed.\n",
            "Be aware, overflowing tokens are not returned for the setting you have chosen, i.e. sequence pairs with the 'longest_first' truncation strategy. So the returned list will always be empty even if some tokens have been removed.\n",
            "Be aware, overflowing tokens are not returned for the setting you have chosen, i.e. sequence pairs with the 'longest_first' truncation strategy. So the returned list will always be empty even if some tokens have been removed.\n"
          ]
        }
      ],
      "source": [
        "# train data prep\n",
        "train_tokens = tokenizer(\n",
        "    train_df['text'].tolist(),\n",
        "    train_df['profile'].tolist(),\n",
        "    max_length = MAX_LEN,\n",
        "    padding = 'max_length',\n",
        "    truncation = True\n",
        ")\n",
        "\n",
        "train_seq = torch.tensor(train_tokens['input_ids'])\n",
        "train_mask = torch.tensor(train_tokens['attention_mask'])\n",
        "train_y = torch.tensor(train_labels_cat.values, dtype=torch.long)\n",
        "\n",
        "train_data = TensorDataset(train_seq, train_mask, train_y)\n",
        "train_sampler = RandomSampler(train_seq)\n",
        "train_dataloader = DataLoader(train_data, sampler = train_sampler, batch_size = batch_size)"
      ]
    },
    {
      "cell_type": "code",
      "execution_count": null,
      "metadata": {
        "colab": {
          "base_uri": "https://localhost:8080/"
        },
        "id": "zZXcmq-itWRs",
        "outputId": "de81bdb4-dd5a-4ac4-b586-d8c11ce178b2"
      },
      "outputs": [
        {
          "output_type": "stream",
          "name": "stderr",
          "text": [
            "Be aware, overflowing tokens are not returned for the setting you have chosen, i.e. sequence pairs with the 'longest_first' truncation strategy. So the returned list will always be empty even if some tokens have been removed.\n",
            "Be aware, overflowing tokens are not returned for the setting you have chosen, i.e. sequence pairs with the 'longest_first' truncation strategy. So the returned list will always be empty even if some tokens have been removed.\n"
          ]
        }
      ],
      "source": [
        "test_tokens = tokenizer(\n",
        "    test_df['text'].tolist(),\n",
        "    test_df['profile'].tolist(),\n",
        "    max_length = MAX_LEN,\n",
        "    padding = 'max_length',\n",
        "    truncation = True\n",
        ")\n",
        "\n",
        "test_seq = torch.tensor(test_tokens['input_ids'])\n",
        "test_mask = torch.tensor(test_tokens['attention_mask'])\n",
        "test_y = torch.tensor(test_labels_cat.values, dtype=torch.long)\n",
        "\n",
        "test_data = TensorDataset(test_seq, test_mask, test_y)\n",
        "test_sampler = RandomSampler(test_seq)\n",
        "test_dataloader = DataLoader(test_data, sampler = test_sampler, batch_size = batch_size)"
      ]
    },
    {
      "cell_type": "code",
      "execution_count": null,
      "metadata": {
        "id": "M2GcgHxXuezE"
      },
      "outputs": [],
      "source": [
        "for param in bert.parameters():\n",
        "    param.requires_grad = False"
      ]
    },
    {
      "cell_type": "code",
      "execution_count": null,
      "metadata": {
        "id": "piYVFM3tI6O-"
      },
      "outputs": [],
      "source": [
        "class BERT_Arch(nn.Module):\n",
        "\n",
        "    def __init__(self, bert):\n",
        "        super(BERT_Arch, self).__init__()\n",
        "        self.bert = bert\n",
        "        self.dropout = nn.Dropout(0.1)\n",
        "        self.relu = nn.ReLU()\n",
        "        self.fc1 = nn.Linear(768,512)\n",
        "        self.fc2 = nn.Linear(512,5)\n",
        "        self.softmax = nn.LogSoftmax(dim = 1)\n",
        "\n",
        "    def forward(self, sent_id, mask):\n",
        "        _, cls_hs = self.bert(sent_id, attention_mask = mask, return_dict = False)\n",
        "        x = self.fc1(cls_hs)\n",
        "        x = self.relu(x)\n",
        "        x = self.dropout(x)\n",
        "        x = self.fc2(x)\n",
        "        x = self.softmax(x)\n",
        "        return x"
      ]
    },
    {
      "cell_type": "code",
      "execution_count": null,
      "metadata": {
        "id": "b8kq9Wm8JXSC"
      },
      "outputs": [],
      "source": [
        "model = BERT_Arch(bert)\n",
        "\n",
        "# model = model.to(device)\n",
        "from torch.optim import AdamW\n",
        "\n",
        "optimizer = AdamW(model.parameters(), lr = 1e-3)\n",
        "\n",
        "# weights = weights.to(device)\n",
        "cross_entropy = nn.CrossEntropyLoss()\n",
        "epochs = 10"
      ]
    },
    {
      "cell_type": "code",
      "execution_count": null,
      "metadata": {
        "id": "6dHrZEk-stUZ"
      },
      "outputs": [],
      "source": [
        "def train():\n",
        "  model.train()\n",
        "  total_loss, total_accuracy = 0, 0\n",
        "  total_preds = []\n",
        "  for step, batch in enumerate(train_dataloader):\n",
        "      sent_id,mask,labels = batch\n",
        "      model.zero_grad()\n",
        "      preds = model(sent_id, mask)\n",
        "      loss = cross_entropy(preds, labels)\n",
        "      total_loss += loss.item()\n",
        "      loss.backward()\n",
        "      torch.nn.utils.clip_grad_norm_(model.parameters(), 1.0)\n",
        "      optimizer.step()\n",
        "\n",
        "      preds = preds.detach().cpu().numpy()\n",
        "      total_preds.append(preds)\n",
        "\n",
        "  avg_loss = total_loss / len(train_dataloader)\n",
        "  total_preds = np.concatenate(total_preds, axis = 0)\n",
        "  return avg_loss, total_preds"
      ]
    },
    {
      "cell_type": "code",
      "execution_count": null,
      "metadata": {
        "id": "eEqawWxtJ3sK"
      },
      "outputs": [],
      "source": [
        "def evaluate():\n",
        "    model.eval()\n",
        "    total_loss, total_accuracy = 0,0\n",
        "    total_preds = []\n",
        "\n",
        "    for step, batch in enumerate(test_dataloader):\n",
        "        sent_id, mask, labels = batch\n",
        "\n",
        "        with torch.no_grad():\n",
        "            preds = model(sent_id, mask)\n",
        "            loss = cross_entropy(preds, labels)\n",
        "            total_loss = total_loss + loss.item()\n",
        "            preds = preds.detach().cpu().numpy()\n",
        "            total_preds.append(preds)\n",
        "\n",
        "    avg_loss = total_loss / len(test_dataloader)\n",
        "    total_preds = np.concatenate(total_preds, axis = 0)\n",
        "\n",
        "    return avg_loss, total_preds"
      ]
    },
    {
      "cell_type": "code",
      "execution_count": null,
      "metadata": {
        "id": "VyA35GN0LQiH"
      },
      "outputs": [],
      "source": [
        "best_valid_loss = float('inf')\n",
        "\n",
        "train_losses = []\n",
        "valid_losses = []\n",
        "\n",
        "for epoch in range(epochs):\n",
        "    print('\\n Epoch{:} / {:}'.format(epoch+1, epochs))\n",
        "\n",
        "    train_loss, _ = train()\n",
        "    valid_loss, _ = evaluate()\n",
        "\n",
        "    if valid_loss < best_valid_loss:\n",
        "        best_valid_loss = valid_loss\n",
        "        torch.save(model.state_dict(), f'/content/drive/MyDrive/weights_{epoch}_p.pt')\n",
        "\n",
        "    train_losses.append(train_loss)\n",
        "    valid_losses.append(valid_loss)\n",
        "    print(f'\\nTraining loss: {train_loss:.3f}')\n",
        "    print(f'Validation loss: {valid_loss:.3f}')"
      ]
    },
    {
      "cell_type": "code",
      "execution_count": null,
      "metadata": {
        "colab": {
          "base_uri": "https://localhost:8080/"
        },
        "id": "0z4ZjXlesMvE",
        "outputId": "7351ab3e-71c0-4912-a330-9b8ef9a5f228"
      },
      "outputs": [
        {
          "output_type": "stream",
          "name": "stdout",
          "text": [
            "Mounted at /content/drive\n"
          ]
        }
      ],
      "source": [
        "from google.colab import drive\n",
        "drive.mount('/content/drive')\n",
        "\n"
      ]
    },
    {
      "cell_type": "code",
      "execution_count": null,
      "metadata": {
        "colab": {
          "base_uri": "https://localhost:8080/"
        },
        "id": "LB4Y9PVbgVwr",
        "outputId": "10592eb3-9213-4cea-ac59-839aed0b5167"
      },
      "outputs": [
        {
          "output_type": "execute_result",
          "data": {
            "text/plain": [
              "<All keys matched successfully>"
            ]
          },
          "metadata": {},
          "execution_count": 52
        }
      ],
      "source": [
        "path = '/content/drive/MyDrive/weights_7.pt'\n",
        "model.load_state_dict(torch.load(path))"
      ]
    },
    {
      "cell_type": "code",
      "execution_count": null,
      "metadata": {
        "id": "VpYv9R4f089E"
      },
      "outputs": [],
      "source": [
        "def match(request, profile):\n",
        "    pair = list([[str(request), str(profile)]])\n",
        "\n",
        "    tokens = tokenizer.batch_encode_plus(\n",
        "    pair,\n",
        "    max_length = MAX_LEN,\n",
        "    padding = 'max_length',\n",
        "    truncation = True\n",
        ")\n",
        "\n",
        "    seq = torch.tensor(tokens['input_ids'])\n",
        "    mask = torch.tensor(tokens['attention_mask'])\n",
        "\n",
        "    output = model(seq, mask)\n",
        "    _, prediction = torch.max(output, dim=1)\n",
        "    return prediction+1"
      ]
    },
    {
      "cell_type": "code",
      "execution_count": null,
      "metadata": {
        "id": "gAvwUkjRaLbz"
      },
      "outputs": [],
      "source": [
        "request = 'Здравствуйте. Нужен семейный психолог. Тривиально... семья распадается . Но этого бы никто не хотел'\n",
        "profile = test_df['profile'][3]"
      ]
    },
    {
      "cell_type": "code",
      "execution_count": null,
      "metadata": {
        "id": "p73p81oCgRcc"
      },
      "outputs": [],
      "source": [
        "train_pairs = train_df[['text', 'profile']].values.astype('str').tolist()\n",
        "test_pairs = test_df[['text', 'profile']].values.astype('str').tolist()"
      ]
    },
    {
      "cell_type": "code",
      "source": [
        "from sklearn import classification_report"
      ],
      "metadata": {
        "id": "ducgIvVsHNME"
      },
      "execution_count": null,
      "outputs": []
    },
    {
      "cell_type": "code",
      "execution_count": null,
      "metadata": {
        "id": "wgqF0wQpesxe",
        "colab": {
          "base_uri": "https://localhost:8080/"
        },
        "outputId": "aab32296-4835-442d-9927-4c220e01b68d"
      },
      "outputs": [
        {
          "output_type": "stream",
          "name": "stderr",
          "text": [
            "Be aware, overflowing tokens are not returned for the setting you have chosen, i.e. sequence pairs with the 'longest_first' truncation strategy. So the returned list will always be empty even if some tokens have been removed.\n",
            "Be aware, overflowing tokens are not returned for the setting you have chosen, i.e. sequence pairs with the 'longest_first' truncation strategy. So the returned list will always be empty even if some tokens have been removed.\n"
          ]
        }
      ],
      "source": [
        "y_true = test_df['match_cat']\n",
        "y_preds = []\n",
        "for request, profile in test_pairs:\n",
        "  y_preds.append(int(match(request, profile)))"
      ]
    },
    {
      "cell_type": "code",
      "source": [
        "print(classification_report(y_true, y_preds))"
      ],
      "metadata": {
        "colab": {
          "base_uri": "https://localhost:8080/"
        },
        "id": "0sx4SsWRHXG3",
        "outputId": "e779f368-11c7-43a8-bda0-1fbf85102c6a"
      },
      "execution_count": null,
      "outputs": [
        {
          "output_type": "stream",
          "name": "stdout",
          "text": [
            "              precision    recall  f1-score   support\n",
            "\n",
            "           1       0.36      1.00      0.53         5\n",
            "           2       0.00      0.00      0.00         4\n",
            "           3       0.00      0.00      0.00         3\n",
            "           4       0.00      0.00      0.00         3\n",
            "           5       0.00      0.00      0.00         1\n",
            "\n",
            "    accuracy                           0.31        16\n",
            "   macro avg       0.07      0.20      0.11        16\n",
            "weighted avg       0.11      0.31      0.16        16\n",
            "\n"
          ]
        },
        {
          "output_type": "stream",
          "name": "stderr",
          "text": [
            "/usr/local/lib/python3.10/dist-packages/sklearn/metrics/_classification.py:1344: UndefinedMetricWarning: Precision and F-score are ill-defined and being set to 0.0 in labels with no predicted samples. Use `zero_division` parameter to control this behavior.\n",
            "  _warn_prf(average, modifier, msg_start, len(result))\n",
            "/usr/local/lib/python3.10/dist-packages/sklearn/metrics/_classification.py:1344: UndefinedMetricWarning: Precision and F-score are ill-defined and being set to 0.0 in labels with no predicted samples. Use `zero_division` parameter to control this behavior.\n",
            "  _warn_prf(average, modifier, msg_start, len(result))\n",
            "/usr/local/lib/python3.10/dist-packages/sklearn/metrics/_classification.py:1344: UndefinedMetricWarning: Precision and F-score are ill-defined and being set to 0.0 in labels with no predicted samples. Use `zero_division` parameter to control this behavior.\n",
            "  _warn_prf(average, modifier, msg_start, len(result))\n"
          ]
        }
      ]
    }
  ],
  "metadata": {
    "colab": {
      "provenance": [],
      "include_colab_link": true
    },
    "kernelspec": {
      "display_name": "Python 3",
      "name": "python3"
    },
    "language_info": {
      "name": "python"
    }
  },
  "nbformat": 4,
  "nbformat_minor": 0
}